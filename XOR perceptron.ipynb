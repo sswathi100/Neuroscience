{
 "cells": [
  {
   "cell_type": "markdown",
   "metadata": {},
   "source": [
    "# XOR table\n",
    "\n",
    "|Input A|Input B| A $\\oplus$ B|\n",
    "|:-----:|:-----:|:-----:|\n",
    "|0|0|1|\n",
    "|0|1|1|\n",
    "|1|0|1|\n",
    "|1|1|0|"
   ]
  },
  {
   "attachments": {
    "800px-XOR_from_NAND.svg.png": {
     "image/png": "[encoded data removed]"
    }
   },
   "cell_type": "markdown",
   "metadata": {},
   "source": [
    "# XOR table derived using only NAND\n",
    "\n",
    "## NAND Gate\n",
    "\n",
    "|Input A|Input B| $\\overline{\\mbox{A $\\land$ B}}$|\n",
    "|:-----:|:-----:|:-----:|\n",
    "|0|0|1|\n",
    "|0|1|1|\n",
    "|1|0|1|\n",
    "|1|1|0|\n",
    "\n",
    "## Gate Implementation of using NAND Gates to implement XOR (from CS background)\n",
    "\n",
    "![800px-XOR_from_NAND.svg.png](attachment:800px-XOR_from_NAND.svg.png)\n",
    "\n",
    "\n",
    "In other words, its finding nand between the two inputs, each of the inputs with nand of those inputs, and finally nand of the last two results."
   ]
  },
  {
   "cell_type": "markdown",
   "metadata": {},
   "source": [
    "## Finding Weights for Implementing NAND\n",
    "\n",
    "If we assume our threshold T is 0, bias b is 1, then we need to find weights based on our inputs.\n",
    "\n",
    "Our weights need to be equal since we don't have a difference as to which position or port the inputs are placed in (eg: it does not affect us in any way if the input is (1,0) or (0,1).\n",
    "\n",
    "So first let's take cases with output result and check which weights would work for obtaining this result (refer to NAND table above):\n",
    "\n",
    "1) If A = 0 and B = 0, our output needs to be 1.\n",
    "\n",
    "- 0*w + 0*w + b >= 0\n",
    "\n",
    "2) If A = 0 and B = 1, our output needs to be 1.\n",
    "\n",
    "- 0*w + 1*w + b >= 0\n",
    "\n",
    "3) If A = 1 and B = 0, our output needs to be 1.\n",
    "\n",
    "- 1*w + 0*w + b >= 0\n",
    "\n",
    "4) If A = 1 and B = 1, our output needs to be 0.\n",
    "\n",
    "- 1*w + 1*w + b < 0\n",
    "\n",
    "Let's combine and simplify these equations together:\n",
    "\n",
    "- b > 0\n",
    "- w + b >= 0\n",
    "- w + b >= 0\n",
    "- 2w + b < 0\n",
    "\n",
    "Since b = 1, let us pick w = -1 to satify all the conditions above.\n"
   ]
  },
  {
   "cell_type": "code",
   "execution_count": null,
   "metadata": {},
   "outputs": [
    {
     "name": "stdout",
     "output_type": "stream",
     "text": [
      "enter each element of tuple followed by space or press q to quit1 0\n",
      "1\n"
     ]
    }
   ],
   "source": [
    "import numpy as np\n",
    "import logging\n",
    "\n",
    "debug = False\n",
    "bias = 1\n",
    "\n",
    "if (debug):\n",
    "    logging.basicConfig(level=logging.DEBUG)\n",
    "\n",
    "def nand(inp, w = np.array([-1,-1,1]), T = 0):\n",
    "    return 1 if (inp @ w) >= T else 0\n",
    "    \n",
    "def xor(inp):\n",
    "    logging.debug(\"xor: starting now\")\n",
    "    \n",
    "    abNand = nand(inp) # nand with tuple given\n",
    "    logging.debug(\"xor: nand with given input tuple values %d\", abNand)\n",
    "    \n",
    "    anandNand = nand(np.array([inp[0], abNand, inp[2]])) # nand with first value of tuple and result of previous ab nand\n",
    "    logging.debug(\"xor: nand with given input tuple values %d\", anandNand)\n",
    "\n",
    "    bnandNand = nand(np.array([inp[1], abNand, inp[2]])) # nand with second value of tuple and result of previous ab nand\n",
    "    logging.debug(\"xor: nand with given input tuple values %d\", bnandNand)\n",
    "\n",
    "    return nand(np.array([anandNand, bnandNand, inp[2]])) # nand with previous two results\n",
    "    \n",
    "    \n",
    "def main():\n",
    "    a = None\n",
    "    b = None\n",
    "    quit = False\n",
    "    ready = False\n",
    "    while(True):\n",
    "        try:\n",
    "            a = input(\"enter each element of tuple followed by space or press q to quit\")\n",
    "            if (a == \"q\"): break\n",
    "            a = list(map(int, a.split()))\n",
    "            if (len(a) != 2 or (a[0] not in [0,1]) or (a[1] not in [0,1])):\n",
    "                print(\"Sorry, the inputs are not valid. Note that due to default implementation of gates\")\n",
    "                print(\"the inputs have to be from [0,1]. Please enter two inputs from [0,1].\")\n",
    "                ready = False\n",
    "            else:\n",
    "                ready = True\n",
    "        except ValueError:\n",
    "            print(\"sorry the inputs are not valid. Due to nature of XOR binary operation, only integers are allowed\")\n",
    "            ready = False\n",
    "            \n",
    "        if ((not quit) and ready):\n",
    "            a.append(bias) # bias value added\n",
    "            answer = xor(np.array(a))\n",
    "            print(answer)\n",
    "\n",
    "main()"
   ]
  },
  {
   "cell_type": "markdown",
   "metadata": {},
   "source": [
    "# Single-layer vs Multi-layer Perceptron\n",
    "\n",
    "XOR cannot be built with one layer, because conceptually, single-layer perceptrons can only show linearly separable patterns"
   ]
  },
  {
   "cell_type": "code",
   "execution_count": 3,
   "metadata": {},
   "outputs": [
    {
     "data": {
      "text/plain": [
       "<matplotlib.collections.PathCollection at 0x1d17975f9e8>"
      ]
     },
     "execution_count": 3,
     "metadata": {},
     "output_type": "execute_result"
    },
    {
     "data": {
      "image/png": "[encoded data removed]",
      "text/plain": [
       "<Figure size 432x288 with 1 Axes>"
      ]
     },
     "metadata": {
      "needs_background": "light"
     },
     "output_type": "display_data"
    }
   ],
   "source": [
    "#from notebook\n",
    "%matplotlib inline\n",
    "import matplotlib \n",
    "import matplotlib.pyplot as p\n",
    "cs = [\"#ff0000\",\"#ff0000\",\"#008000\",\"#008000\"]\n",
    "p.scatter([0, 1, 0, 1],[0,0,1,1],color=cs,s = 60)"
   ]
  },
  {
   "cell_type": "markdown",
   "metadata": {},
   "source": [
    "A single-layer perceptron can implement this because geometrically, a linear line can categorize the points into two categories. However, if we note the points below:"
   ]
  },
  {
   "cell_type": "code",
   "execution_count": 2,
   "metadata": {},
   "outputs": [
    {
     "data": {
      "text/plain": [
       "<matplotlib.collections.PathCollection at 0x1d1796e92b0>"
      ]
     },
     "execution_count": 2,
     "metadata": {},
     "output_type": "execute_result"
    },
    {
     "data": {
      "image/png": "[encoded data removed]",
      "text/plain": [
       "<Figure size 432x288 with 1 Axes>"
      ]
     },
     "metadata": {
      "needs_background": "light"
     },
     "output_type": "display_data"
    }
   ],
   "source": [
    "#from notebook\n",
    "import matplotlib \n",
    "import matplotlib.pyplot as p\n",
    "cs = [\"#ff0000\", \"#008000\",  \"#008000\", \"#ff0000\"]\n",
    "p.scatter([0, 1, 0, 1],[0,0,1,1],color=cs,s = 60)"
   ]
  },
  {
   "cell_type": "markdown",
   "metadata": {},
   "source": [
    "A single line cannot split the points into two categories here (we would need two lines, hence another hidden layer, to implement this). \n",
    "Thus, more layers would be needed for more complex networks.\n",
    "In terms of deep networks, this might have to do with how artificial intelligence can actually process information beyond the simple one-layer processes to complex multi-layer applications. "
   ]
  },
  {
   "cell_type": "code",
   "execution_count": null,
   "metadata": {},
   "outputs": [],
   "source": []
  }
 ],
 "metadata": {
  "kernelspec": {
   "display_name": "Python 3",
   "language": "python",
   "name": "python3"
  },
  "language_info": {
   "codemirror_mode": {
    "name": "ipython",
    "version": 3
   },
   "file_extension": ".py",
   "mimetype": "text/x-python",
   "name": "python",
   "nbconvert_exporter": "python",
   "pygments_lexer": "ipython3",
   "version": "3.7.3"
  }
 },
 "nbformat": 4,
 "nbformat_minor": 2
}
