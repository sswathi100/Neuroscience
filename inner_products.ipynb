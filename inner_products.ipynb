{
 "cells": [
  {
   "cell_type": "code",
   "execution_count": 4,
   "metadata": {},
   "outputs": [
    {
     "name": "stdout",
     "output_type": "stream",
     "text": [
      "enter each element of list A followed by space (press enter for default values)\n",
      "enter each element of list B followed by space (press enter for default values)\n",
      "ip(a,b) is equal to 32\n",
      "ipnumpy(a,b) is equal to 32\n",
      "and ip(a,b) == ipnumpy(a,b) is True\n"
     ]
    }
   ],
   "source": [
    "import numpy as np\n",
    "\n",
    "\"\"\"\n",
    "manual implementation of inner product\n",
    "\"\"\"\n",
    "def ip(a,b):\n",
    "    myIp = 0;\n",
    "    for valA, valB in zip(a, b):\n",
    "        myIp += valA*valB\n",
    "    return myIp\n",
    "\n",
    "\"\"\"\n",
    "numpy implementation of inner product\n",
    "\"\"\"\n",
    "def ipnumpy(a,b):\n",
    "    return np.inner(a,b)\n",
    "\n",
    "\n",
    "def innerProduct(a = [1, 2, 3], b = [4, 5, 6]):\n",
    "    print(\"ip(a,b) is equal to %d\" % ip(a,b))\n",
    "    print(\"ipnumpy(a,b) is equal to %d\" % ipnumpy(np.array(a),np.array(b)))\n",
    "    print(\"and ip(a,b) == ipnumpy(a,b) is %s\" % (ip(a,b) == ipnumpy(a,b)))\n",
    "\n",
    "def main():\n",
    "    a = None\n",
    "    b = None\n",
    "    while(True):\n",
    "        try:\n",
    "            a = input(\"enter each element of list A followed by space (press enter for default values)\")\n",
    "            a = list(map(int, a.split()))\n",
    "            b = input(\"enter each element of list B followed by space (press enter for default values)\")\n",
    "            b = list(map(int, b.split()))\n",
    "            if (len(a) != len(b)):\n",
    "                print(\"please enter vectors of same size\")\n",
    "            else:\n",
    "                break\n",
    "        except ValueError:\n",
    "            print(\"sorry the inputs are not valid\")\n",
    "    innerProduct() if (a == [] or b == []) else innerProduct(a,b)\n",
    "    \n",
    "main()"
   ]
  },
  {
   "cell_type": "markdown",
   "metadata": {},
   "source": [
    "# Libraries/built-in functions vs Manual Implementation\n",
    "\n",
    "It is better to use the built-in functions and libraries than using manual implementation because:\n",
    "- It is easier in terms of re-using those functions (if two projects need the same functions, instead of re-implementing them, it is faster and easier to import those libraries and use them)\n",
    "- There are less chances of errors because it is used by many users and tested -- one less thing to worry about when debugging code\n",
    "- good in terms of abstraction as users don't really need to worry about exact implementation details of those functions and just know how to use them\n"
   ]
  },
  {
   "cell_type": "code",
   "execution_count": null,
   "metadata": {},
   "outputs": [],
   "source": []
  }
 ],
 "metadata": {
  "kernelspec": {
   "display_name": "Python 3",
   "language": "python",
   "name": "python3"
  },
  "language_info": {
   "codemirror_mode": {
    "name": "ipython",
    "version": 3
   },
   "file_extension": ".py",
   "mimetype": "text/x-python",
   "name": "python",
   "nbconvert_exporter": "python",
   "pygments_lexer": "ipython3",
   "version": "3.7.3"
  }
 },
 "nbformat": 4,
 "nbformat_minor": 2
}
