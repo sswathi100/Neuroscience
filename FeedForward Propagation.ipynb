{
 "cells": [
  {
   "cell_type": "code",
   "execution_count": 1,
   "metadata": {},
   "outputs": [
    {
     "name": "stdout",
     "output_type": "stream",
     "text": [
      "Do you want to input your own values for inputs and weights (type y for yes)n\n",
      "The input is [0.41830799 0.25673682 0.80590151]\n",
      "The weights are [array([[0.28067651, 0.68825301, 0.11569428, 0.44133581],\n",
      "       [0.47205841, 0.82110703, 0.3635524 , 0.90542786],\n",
      "       [0.64476326, 0.10241214, 0.03928503, 0.63373216],\n",
      "       [0.0293863 , 0.91945207, 0.47301849, 0.37793227]])\n",
      " array([[0.37793227, 0.64660964, 0.31475882, 0.75051056, 0.20211962],\n",
      "       [0.19364118, 0.46938555, 0.88729517, 0.90231228, 0.23279722]])]\n",
      "The output of this layer is  [0.6960764097899255, 0.8329512608435938, 0.7234009425281905, 0.7325283208427349]\n",
      "The output of this layer is  [0.8558512376587537, 0.887094569520326]\n",
      "The final output is  [0.85585124 0.88709457]\n"
     ]
    }
   ],
   "source": [
    "import numpy as np\n",
    "import random as r\n",
    "\n",
    "def sigmoidFunc(ip, wt):\n",
    "    bias = wt[-1]\n",
    "    wt = np.delete(wt, -1)\n",
    "    return 1/(1 + np.exp(-(bias + np.dot(ip, wt))))\n",
    "\n",
    "def feedforward(ip, ws):\n",
    "    for layerwt in ws:\n",
    "        outputs = []\n",
    "        for element in layerwt:\n",
    "            outputs.append(sigmoidFunc(ip, element)) \n",
    "        print('The output of this layer is ', outputs)\n",
    "        ip = np.array(outputs)\n",
    "    return ip\n",
    "\n",
    "# sample randomized inputs (from learn)\n",
    "rs = [r.random() for i in list(range(26))]\n",
    "wts = np.array(rs[1:17])\n",
    "lay1wts = wts.reshape((4,4))\n",
    "lay2wts = np.array(rs[16:]).reshape((2,5))\n",
    "wts=np.array([lay1wts,lay2wts])\n",
    "inputs = np.array([r.random() for i in range(3)])\n",
    "\n",
    "def findFeedForward(inp, weights):\n",
    "    print('The input is', inp)\n",
    "    print('The weights are', weights)\n",
    "    output = feedforward(inputs, weights)\n",
    "    print('The final output is ', output)\n",
    "\n",
    "def main():\n",
    "    choose = input('Do you want to input your own values for inputs and weights (type y for yes)')\n",
    "    if (choose == 'y'):\n",
    "        inp = input('Please enter the values of input vector separated by space for inputs')\n",
    "        inp = list(map(float, inp.split()))\n",
    "        num_weight = int(input('How many layers would you like to input?'))\n",
    "        weights = []\n",
    "        for i in range(num_weight):\n",
    "            wt = input('Please enter the values of vector separated by space for weight')\n",
    "            wt = list(map(float, wt.split()))\n",
    "            wt = np.array(wt)\n",
    "            shape = input ('Please enter the shape that you would like to convert this to  (eg:2 5 for 2 rows and 5 columns)')\n",
    "            shape = list(map(int, shape.split()))\n",
    "            wt = wt.reshape(shape[0],shape[1])\n",
    "            weights.append(wt)\n",
    "        weights = np.array(weights)\n",
    "        findFeedForward(inp,weights)\n",
    "    else:\n",
    "        findFeedForward(inputs, wts)\n",
    "\n",
    "main()"
   ]
  },
  {
   "cell_type": "markdown",
   "metadata": {},
   "source": [
    "I had a bit of trouble trying to envision the layers and the weights, so I had to look up this site for understanding more about this:http://neuralnetworksanddeeplearning.com/chap2.html\n"
   ]
  }
 ],
 "metadata": {
  "kernelspec": {
   "display_name": "Python 3",
   "language": "python",
   "name": "python3"
  },
  "language_info": {
   "codemirror_mode": {
    "name": "ipython",
    "version": 3
   },
   "file_extension": ".py",
   "mimetype": "text/x-python",
   "name": "python",
   "nbconvert_exporter": "python",
   "pygments_lexer": "ipython3",
   "version": "3.7.3"
  }
 },
 "nbformat": 4,
 "nbformat_minor": 2
}
