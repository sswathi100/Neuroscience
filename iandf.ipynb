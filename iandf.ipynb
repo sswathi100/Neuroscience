{
 "cells": [
  {
   "cell_type": "code",
   "execution_count": null,
   "metadata": {},
   "outputs": [],
   "source": [
    "%matplotlib inline\n",
    "import matplotlib\n",
    "import matplotlib.pyplot as plt\n",
    "from math import *\n",
    "\n",
    "def findNewVoltage(T, I, R, v, threshold, dt):\n",
    "    newV = v + dt*(I*R - (v))/T\n",
    "    if (v >= threshold + 10):\n",
    "        return 0\n",
    "    elif (v >= threshold):\n",
    "        return threshold + 10\n",
    "    else:\n",
    "        return newV\n",
    "\n",
    "def findSinCurrent(I, t):\n",
    "    return I + sin(t)\n",
    "\n",
    "def plotiandf(R = 10, C = 3, I = 4, v = 0, threshold = 20, isSinCur = False):\n",
    "    voltages = [v]\n",
    "    T = R*C\n",
    "    time = [t/10 for t in range(1,1001)]\n",
    "    dt = 0.1\n",
    "    for t in time:\n",
    "        i = I\n",
    "        if (isSinCur):\n",
    "            i = findSinCurrent(I, t)\n",
    "        v = findNewVoltage(T, i, R, v, threshold, dt)\n",
    "        voltages.append(v)\n",
    "        #print(v)\n",
    "    # creatig a new figure for the sinusoidal plot\n",
    "    if (isSinCur):\n",
    "        plt.figure()\n",
    "        plt.title('IandF model (sinusoidally modulated current)')\n",
    "    else:\n",
    "        plt.title('IandF model')\n",
    "    #plotting the figure with labels\n",
    "    plt.xlabel('Time') \n",
    "    plt.ylabel('Voltage') \n",
    "    plt.plot(time, voltages[:-1])\n",
    "    \n",
    "\n",
    "def main():\n",
    "    threshold = input(\"Please enter a threshold value. Press enter if you want to use default (default = 20)\")\n",
    "    if (threshold):\n",
    "        threshold = int(threshold)\n",
    "        plotiandf(threshold = threshold)\n",
    "        plotiandf(threshold = threshold, isSinCur = True) #set isSinCur to true to inject the sinosoidal current and plot the function\n",
    "    else:\n",
    "        plotiandf()\n",
    "        plotiandf(isSinCur = True)\n",
    "main()"
   ]
  },
  {
   "cell_type": "markdown",
   "metadata": {},
   "source": [
    "### IandF model vs Real Neuron\n",
    "\n",
    "As described in the article, injecting constant current shows reliability of average firing rate but not reliability in precise timing of the spikes (firing). So whether IandF model is \"good\" or \"bad\" depends on what we are trying to measure here. If trying to reproduce how a neuron exactly works with precise firing timing, then IandF with constant current may not be the best model to use. As given in the article, using a deterministic leaky-integrator (Leaky IandF model) or Hodgkin-Huxley model with fixed level of additive background noise gives a similar behaviour.\n",
    "\n"
   ]
  }
 ],
 "metadata": {
  "kernelspec": {
   "display_name": "Python 3",
   "language": "python",
   "name": "python3"
  },
  "language_info": {
   "codemirror_mode": {
    "name": "ipython",
    "version": 3
   },
   "file_extension": ".py",
   "mimetype": "text/x-python",
   "name": "python",
   "nbconvert_exporter": "python",
   "pygments_lexer": "ipython3",
   "version": "3.7.3"
  }
 },
 "nbformat": 4,
 "nbformat_minor": 2
}
