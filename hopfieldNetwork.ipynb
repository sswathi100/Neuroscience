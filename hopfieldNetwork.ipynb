{
 "cells": [
  {
   "cell_type": "code",
   "execution_count": 2,
   "metadata": {},
   "outputs": [
    {
     "name": "stdout",
     "output_type": "stream",
     "text": [
      "something\n"
     ]
    },
    {
     "data": {
      "image/png": "[encoded data removed]",
      "text/plain": [
       "<Figure size 432x288 with 15 Axes>"
      ]
     },
     "metadata": {
      "needs_background": "light"
     },
     "output_type": "display_data"
    },
    {
     "data": {
      "image/png": "[encoded data removed]",
      "text/plain": [
       "<Figure size 432x288 with 3 Axes>"
      ]
     },
     "metadata": {
      "needs_background": "light"
     },
     "output_type": "display_data"
    }
   ],
   "source": [
    "import numpy as np\n",
    "import matplotlib.pyplot as p\n",
    "import random\n",
    "import copy\n",
    "\n",
    "N = 5 # global variable; change this and global rand value to true if you want to specify size of input pattern\n",
    "rand = False # change this to true if you want\n",
    "\n",
    "\"\"\"\n",
    "get_num_inputs determines number of input patterns to produce based on random n value \n",
    "            - if you want to change this, make rand false and change N value above to desired number\n",
    "\"\"\"\n",
    "def get_num_inputs(rand = True): # change this to true if you want to define a specific size\n",
    "    if (rand):\n",
    "        n = random.randrange(3,8) # dont want too many input patterns crowding screen\n",
    "    else:\n",
    "        n = N\n",
    "    num_patterns = int(0.15*n*n) # read while doing research on hopfield on spurious minima\n",
    "    return [num_patterns, n]\n",
    "\n",
    "\"\"\"\n",
    "random_inputs generates random input patterns\n",
    "        -- note that this actually produces [0,1] patterns that will be changed to [-1, 1] patterns\n",
    "\"\"\"\n",
    "def random_inputs(num_inputs):\n",
    "    inputs = []\n",
    "    for x in range(num_inputs[0]):\n",
    "        inputs.append(np.random.randint(2, size = (num_inputs[1],num_inputs[1])))\n",
    "    return inputs\n",
    "\n",
    "\"\"\"\n",
    "compute_weight computes the weight based on the input patterns given\n",
    "\"\"\"\n",
    "def compute_weight(inputs, n):\n",
    "    wt = np.zeros([n*n,n*n])\n",
    "    for e in inputs:\n",
    "        wt += np.outer(e,e)\n",
    "    np.fill_diagonal(wt, 0)\n",
    "    wt = wt/len(inputs)\n",
    "    return wt\n",
    "\n",
    "\"\"\"\n",
    "async_update updates the input matrix based on the weights to the output matrix\n",
    "\"\"\"\n",
    "def async_update(*, num_loop = 100, threshold = 0, wt, one_input, n):\n",
    "    for x in range(num_loop):\n",
    "        one_input = np.dot(one_input,wt)\n",
    "        for e in np.nditer(one_input, op_flags=[\"readwrite\"]):\n",
    "            e[...] = 1 if e > 0 else -1\n",
    "    return one_input\n",
    "\n",
    "\"\"\"\n",
    "flatten_inputs flattens 2-d input to 1-d array and converts [0,1] array to [-1, 1] array\n",
    "\"\"\"\n",
    "def flatten_inputs(inputs):\n",
    "    for i,e in enumerate(inputs):\n",
    "        inputs[i] = e.flatten()\n",
    "        inputs[i] = np.where(inputs[i]==0, -1, inputs[i])\n",
    "    return inputs\n",
    "\n",
    "\"\"\"\n",
    "generate_hop_network is the main function that generates the hopfield network with weights\n",
    "\"\"\"\n",
    "def generate_hop_network():\n",
    "    num = get_num_inputs()\n",
    "    ins = random_inputs(num)\n",
    "    flat_ins = ins\n",
    "    flat_ins = flatten_inputs(flat_ins)\n",
    "    flat_ins = copy.deepcopy(ins)\n",
    "    for i,e in enumerate(ins):\n",
    "        ins[i] = e.reshape(num[1],num[1])\n",
    "    wt = compute_weight(flat_ins, num[1])\n",
    "    outs = []\n",
    "    for e in flat_ins:\n",
    "        outs.append(async_update(wt = wt, one_input = e, n = num[1]))\n",
    "    for i,e in enumerate(outs):\n",
    "        outs[i] = e.reshape(num[1],num[1])\n",
    "    return [ins, outs, wt, num]\n",
    "\n",
    "\"\"\"\n",
    "hopPlot plots the hopfield network\n",
    "\"\"\"\n",
    "def hopPlot(*, pltcntr = 1, ins, outs): \n",
    "    r = len(ins)\n",
    "    c = 3\n",
    "    for i in range(r):\n",
    "        p.subplot(r,3,pltcntr)\n",
    "        p.imshow(ins[i])\n",
    "        p.subplot(r,3,(pltcntr+1))\n",
    "        p.imshow(outs[i])\n",
    "        # not sure what this third plot is for?? (showing noise?)\n",
    "        p.subplot(r,3,(pltcntr+2))\n",
    "        p.imshow(ins[i]-outs[i])\n",
    "        pltcntr = pltcntr+3\n",
    "    return(p)\n",
    "\n",
    "\"\"\"\n",
    "generate_noise changes 2 bits of the input pattern given to generate noisy pattern\n",
    "\"\"\"\n",
    "def generate_noise(one_input):\n",
    "    count = 0\n",
    "    for e in np.nditer(one_input, op_flags=[\"readwrite\"]):\n",
    "        if (e == 1 and count < 3):\n",
    "            e[...] = e*-1\n",
    "            count += 1\n",
    "\n",
    "\"\"\"\n",
    "noise_output generates noisy graph \n",
    "\"\"\"\n",
    "def noise_output(one_input, wt, n, num):\n",
    "    generate_noise(one_input)\n",
    "    noise_ins = flatten_inputs([one_input])\n",
    "    noise_outs = []\n",
    "    noise_outs.append(async_update(wt = wt, one_input = noise_ins[0], n = n))\n",
    "    noise_ins = [noise_ins[0].reshape(n,n)]\n",
    "    noise_outs = [noise_outs[0].reshape(n,n)]\n",
    "    p.figure()\n",
    "    p.title('Plot with noise in input')\n",
    "    hopPlot(ins = noise_ins, outs = noise_outs)\n",
    "\n",
    "def main():\n",
    "    ins_outs = generate_hop_network()\n",
    "    hopPlot(ins = ins_outs[0], outs = ins_outs[1])\n",
    "    noise_output(one_input = ins_outs[0][0], wt = ins_outs[2], n = ins_outs[3][1], num = ins_outs[3][0])\n",
    "    \n",
    "main()"
   ]
  }
 ],
 "metadata": {
  "kernelspec": {
   "display_name": "Python 3",
   "language": "python",
   "name": "python3"
  },
  "language_info": {
   "codemirror_mode": {
    "name": "ipython",
    "version": 3
   },
   "file_extension": ".py",
   "mimetype": "text/x-python",
   "name": "python",
   "nbconvert_exporter": "python",
   "pygments_lexer": "ipython3",
   "version": "3.7.3"
  }
 },
 "nbformat": 4,
 "nbformat_minor": 2
}
